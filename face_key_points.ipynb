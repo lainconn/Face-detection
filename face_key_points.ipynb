{
 "cells": [
  {
   "cell_type": "code",
   "execution_count": 1,
   "metadata": {
    "vscode": {
     "languageId": "r"
    }
   },
   "outputs": [
    {
     "name": "stderr",
     "output_type": "stream",
     "text": [
      "Linking to ImageMagick 6.9.12.98\n",
      "Enabled features: cairo, freetype, fftw, ghostscript, heic, lcms, pango, raw, rsvg, webp\n",
      "Disabled features: fontconfig, x11\n",
      "\n"
     ]
    }
   ],
   "source": [
    "library(image.libfacedetection)\n",
    "library(magick)"
   ]
  },
  {
   "cell_type": "code",
   "execution_count": 2,
   "metadata": {
    "vscode": {
     "languageId": "r"
    }
   },
   "outputs": [],
   "source": [
    "setwd(\"D:/Projects/Face recognition/faces/\")"
   ]
  },
  {
   "cell_type": "code",
   "execution_count": 3,
   "metadata": {
    "vscode": {
     "languageId": "r"
    }
   },
   "outputs": [],
   "source": [
    "img_upload <- function(read_path, write_path) {\n",
    "    for (img_path in dir(read_path)) {\n",
    "        img_path_mod <- paste(getwd(), read_path, img_path, sep = \"/\")\n",
    "\n",
    "        image <- image_read(img_path_mod)\n",
    "\n",
    "        faces <- image_data(image, channels = \"rgb\") %>%\n",
    "            as.integer()\n",
    "\n",
    "        faces <- image_detect_faces(faces)\n",
    "\n",
    "        if (faces$nr == 1) {\n",
    "            x <- faces$detections$x\n",
    "            y <- faces$detections$y\n",
    "            width <- faces$detections$width\n",
    "            height <- faces$detections$height\n",
    "        } else {\n",
    "            next()\n",
    "        }\n",
    "\n",
    "        faces <- image_crop(image, geometry = geometry_area(\n",
    "            x = x,\n",
    "            y = y,\n",
    "            width = width,\n",
    "            height = height\n",
    "        ))\n",
    "\n",
    "        write_path_mod <- paste(getwd(), write_path, img_path, sep = \"/\")\n",
    "\n",
    "        image_write(faces, path = write_path_mod)\n",
    "    }\n",
    "}"
   ]
  },
  {
   "cell_type": "code",
   "execution_count": 6,
   "metadata": {
    "vscode": {
     "languageId": "r"
    }
   },
   "outputs": [],
   "source": [
    "img_upload(\"test/non-user\", \"crop_test/non-user/\")"
   ]
  }
 ],
 "metadata": {
  "kernelspec": {
   "display_name": "R",
   "language": "R",
   "name": "ir"
  },
  "language_info": {
   "codemirror_mode": "r",
   "file_extension": ".r",
   "mimetype": "text/x-r-source",
   "name": "R",
   "pygments_lexer": "r",
   "version": "4.3.3"
  }
 },
 "nbformat": 4,
 "nbformat_minor": 2
}
